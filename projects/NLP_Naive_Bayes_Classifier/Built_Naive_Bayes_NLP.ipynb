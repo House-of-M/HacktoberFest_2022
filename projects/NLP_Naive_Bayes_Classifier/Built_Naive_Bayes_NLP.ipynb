{
  "nbformat": 4,
  "nbformat_minor": 0,
  "metadata": {
    "colab": {
      "provenance": [],
      "collapsed_sections": []
    },
    "kernelspec": {
      "name": "python3",
      "display_name": "Python 3"
    },
    "language_info": {
      "name": "python"
    }
  },
  "cells": [
    {
      "cell_type": "markdown",
      "source": [
        "## Introduction: \n",
        "In this notebook we will be building a Multinomial Naive Bayes model or MNB for the task of text categorization. More specifically the we will be solving the stack_overflow question classification where questions of the well known coding platforme have been tagged as one of the followinf classes: C#, Java, JS, Python."
      ],
      "metadata": {
        "id": "U6SVCsml6Ms-"
      }
    },
    {
      "cell_type": "markdown",
      "source": [
        "### 1. Load the dataset"
      ],
      "metadata": {
        "id": "GTrqyCpH66ud"
      }
    },
    {
      "cell_type": "code",
      "source": [
        "import os\n",
        "import math\n",
        "import tarfile\n",
        "import numpy as np\n",
        "import pandas as pd\n",
        "import seaborn as sns\n",
        "import matplotlib.pyplot as plt\n",
        "from tensorflow.keras.preprocessing.text import text_to_word_sequence\n",
        "  "
      ],
      "metadata": {
        "id": "IIxJ39jhnwFR"
      },
      "execution_count": null,
      "outputs": []
    },
    {
      "cell_type": "markdown",
      "source": [
        "### 2. Corpus preprocessing "
      ],
      "metadata": {
        "id": "ZfbZ3qvPkVJx"
      }
    },
    {
      "cell_type": "code",
      "source": [
        "df_train=pd.read_csv('/content/train.csv',index_col=0)\n",
        "df_train"
      ],
      "metadata": {
        "colab": {
          "base_uri": "https://localhost:8080/",
          "height": 455
        },
        "id": "6FW20GqsJoAa",
        "outputId": "e6eece32-619e-4d22-9369-c3faeb959b71"
      },
      "execution_count": null,
      "outputs": [
        {
          "output_type": "execute_result",
          "data": {
            "text/plain": [
              "          year                                           synopsis  \\\n",
              "movie_id                                                            \n",
              "0         2005  Cruel But Necessary is the story of Betty Muns...   \n",
              "1         2012  Yorkshire, 1974, the Maynard family moves into...   \n",
              "2         2017  When a renowned architecture scholar falls sud...   \n",
              "3         1996  The story dealt with Lord Rama and his retalia...   \n",
              "4         2003  A Thai playboy cons a girl into bed and then l...   \n",
              "...        ...                                                ...   \n",
              "37664     1954  A botanical expedition to the Himalayas captur...   \n",
              "37665     1962  The private life of Hitler revealed for the fi...   \n",
              "37666     2017  A nonfiction account of the Ferguson uprising ...   \n",
              "37667     1990  Documentary examining Bokassa's rule in the Ce...   \n",
              "37668     2014  A soldier introduces himself to the Peterson f...   \n",
              "\n",
              "                                genres  \n",
              "movie_id                                \n",
              "0                                Drama  \n",
              "1                Drama Horror Thriller  \n",
              "2                                Drama  \n",
              "3                       Children Drama  \n",
              "4         Comedy Drama Horror Thriller  \n",
              "...                                ...  \n",
              "37664                           Horror  \n",
              "37665                              War  \n",
              "37666                      Documentary  \n",
              "37667                      Documentary  \n",
              "37668                         Thriller  \n",
              "\n",
              "[37669 rows x 3 columns]"
            ],
            "text/html": [
              "\n",
              "  <div id=\"df-e30e380c-51d1-4c81-8ada-02f14d29d0f9\">\n",
              "    <div class=\"colab-df-container\">\n",
              "      <div>\n",
              "<style scoped>\n",
              "    .dataframe tbody tr th:only-of-type {\n",
              "        vertical-align: middle;\n",
              "    }\n",
              "\n",
              "    .dataframe tbody tr th {\n",
              "        vertical-align: top;\n",
              "    }\n",
              "\n",
              "    .dataframe thead th {\n",
              "        text-align: right;\n",
              "    }\n",
              "</style>\n",
              "<table border=\"1\" class=\"dataframe\">\n",
              "  <thead>\n",
              "    <tr style=\"text-align: right;\">\n",
              "      <th></th>\n",
              "      <th>year</th>\n",
              "      <th>synopsis</th>\n",
              "      <th>genres</th>\n",
              "    </tr>\n",
              "    <tr>\n",
              "      <th>movie_id</th>\n",
              "      <th></th>\n",
              "      <th></th>\n",
              "      <th></th>\n",
              "    </tr>\n",
              "  </thead>\n",
              "  <tbody>\n",
              "    <tr>\n",
              "      <th>0</th>\n",
              "      <td>2005</td>\n",
              "      <td>Cruel But Necessary is the story of Betty Muns...</td>\n",
              "      <td>Drama</td>\n",
              "    </tr>\n",
              "    <tr>\n",
              "      <th>1</th>\n",
              "      <td>2012</td>\n",
              "      <td>Yorkshire, 1974, the Maynard family moves into...</td>\n",
              "      <td>Drama Horror Thriller</td>\n",
              "    </tr>\n",
              "    <tr>\n",
              "      <th>2</th>\n",
              "      <td>2017</td>\n",
              "      <td>When a renowned architecture scholar falls sud...</td>\n",
              "      <td>Drama</td>\n",
              "    </tr>\n",
              "    <tr>\n",
              "      <th>3</th>\n",
              "      <td>1996</td>\n",
              "      <td>The story dealt with Lord Rama and his retalia...</td>\n",
              "      <td>Children Drama</td>\n",
              "    </tr>\n",
              "    <tr>\n",
              "      <th>4</th>\n",
              "      <td>2003</td>\n",
              "      <td>A Thai playboy cons a girl into bed and then l...</td>\n",
              "      <td>Comedy Drama Horror Thriller</td>\n",
              "    </tr>\n",
              "    <tr>\n",
              "      <th>...</th>\n",
              "      <td>...</td>\n",
              "      <td>...</td>\n",
              "      <td>...</td>\n",
              "    </tr>\n",
              "    <tr>\n",
              "      <th>37664</th>\n",
              "      <td>1954</td>\n",
              "      <td>A botanical expedition to the Himalayas captur...</td>\n",
              "      <td>Horror</td>\n",
              "    </tr>\n",
              "    <tr>\n",
              "      <th>37665</th>\n",
              "      <td>1962</td>\n",
              "      <td>The private life of Hitler revealed for the fi...</td>\n",
              "      <td>War</td>\n",
              "    </tr>\n",
              "    <tr>\n",
              "      <th>37666</th>\n",
              "      <td>2017</td>\n",
              "      <td>A nonfiction account of the Ferguson uprising ...</td>\n",
              "      <td>Documentary</td>\n",
              "    </tr>\n",
              "    <tr>\n",
              "      <th>37667</th>\n",
              "      <td>1990</td>\n",
              "      <td>Documentary examining Bokassa's rule in the Ce...</td>\n",
              "      <td>Documentary</td>\n",
              "    </tr>\n",
              "    <tr>\n",
              "      <th>37668</th>\n",
              "      <td>2014</td>\n",
              "      <td>A soldier introduces himself to the Peterson f...</td>\n",
              "      <td>Thriller</td>\n",
              "    </tr>\n",
              "  </tbody>\n",
              "</table>\n",
              "<p>37669 rows × 3 columns</p>\n",
              "</div>\n",
              "      <button class=\"colab-df-convert\" onclick=\"convertToInteractive('df-e30e380c-51d1-4c81-8ada-02f14d29d0f9')\"\n",
              "              title=\"Convert this dataframe to an interactive table.\"\n",
              "              style=\"display:none;\">\n",
              "        \n",
              "  <svg xmlns=\"http://www.w3.org/2000/svg\" height=\"24px\"viewBox=\"0 0 24 24\"\n",
              "       width=\"24px\">\n",
              "    <path d=\"M0 0h24v24H0V0z\" fill=\"none\"/>\n",
              "    <path d=\"M18.56 5.44l.94 2.06.94-2.06 2.06-.94-2.06-.94-.94-2.06-.94 2.06-2.06.94zm-11 1L8.5 8.5l.94-2.06 2.06-.94-2.06-.94L8.5 2.5l-.94 2.06-2.06.94zm10 10l.94 2.06.94-2.06 2.06-.94-2.06-.94-.94-2.06-.94 2.06-2.06.94z\"/><path d=\"M17.41 7.96l-1.37-1.37c-.4-.4-.92-.59-1.43-.59-.52 0-1.04.2-1.43.59L10.3 9.45l-7.72 7.72c-.78.78-.78 2.05 0 2.83L4 21.41c.39.39.9.59 1.41.59.51 0 1.02-.2 1.41-.59l7.78-7.78 2.81-2.81c.8-.78.8-2.07 0-2.86zM5.41 20L4 18.59l7.72-7.72 1.47 1.35L5.41 20z\"/>\n",
              "  </svg>\n",
              "      </button>\n",
              "      \n",
              "  <style>\n",
              "    .colab-df-container {\n",
              "      display:flex;\n",
              "      flex-wrap:wrap;\n",
              "      gap: 12px;\n",
              "    }\n",
              "\n",
              "    .colab-df-convert {\n",
              "      background-color: #E8F0FE;\n",
              "      border: none;\n",
              "      border-radius: 50%;\n",
              "      cursor: pointer;\n",
              "      display: none;\n",
              "      fill: #1967D2;\n",
              "      height: 32px;\n",
              "      padding: 0 0 0 0;\n",
              "      width: 32px;\n",
              "    }\n",
              "\n",
              "    .colab-df-convert:hover {\n",
              "      background-color: #E2EBFA;\n",
              "      box-shadow: 0px 1px 2px rgba(60, 64, 67, 0.3), 0px 1px 3px 1px rgba(60, 64, 67, 0.15);\n",
              "      fill: #174EA6;\n",
              "    }\n",
              "\n",
              "    [theme=dark] .colab-df-convert {\n",
              "      background-color: #3B4455;\n",
              "      fill: #D2E3FC;\n",
              "    }\n",
              "\n",
              "    [theme=dark] .colab-df-convert:hover {\n",
              "      background-color: #434B5C;\n",
              "      box-shadow: 0px 1px 3px 1px rgba(0, 0, 0, 0.15);\n",
              "      filter: drop-shadow(0px 1px 2px rgba(0, 0, 0, 0.3));\n",
              "      fill: #FFFFFF;\n",
              "    }\n",
              "  </style>\n",
              "\n",
              "      <script>\n",
              "        const buttonEl =\n",
              "          document.querySelector('#df-e30e380c-51d1-4c81-8ada-02f14d29d0f9 button.colab-df-convert');\n",
              "        buttonEl.style.display =\n",
              "          google.colab.kernel.accessAllowed ? 'block' : 'none';\n",
              "\n",
              "        async function convertToInteractive(key) {\n",
              "          const element = document.querySelector('#df-e30e380c-51d1-4c81-8ada-02f14d29d0f9');\n",
              "          const dataTable =\n",
              "            await google.colab.kernel.invokeFunction('convertToInteractive',\n",
              "                                                     [key], {});\n",
              "          if (!dataTable) return;\n",
              "\n",
              "          const docLinkHtml = 'Like what you see? Visit the ' +\n",
              "            '<a target=\"_blank\" href=https://colab.research.google.com/notebooks/data_table.ipynb>data table notebook</a>'\n",
              "            + ' to learn more about interactive tables.';\n",
              "          element.innerHTML = '';\n",
              "          dataTable['output_type'] = 'display_data';\n",
              "          await google.colab.output.renderOutput(dataTable, element);\n",
              "          const docLink = document.createElement('div');\n",
              "          docLink.innerHTML = docLinkHtml;\n",
              "          element.appendChild(docLink);\n",
              "        }\n",
              "      </script>\n",
              "    </div>\n",
              "  </div>\n",
              "  "
            ]
          },
          "metadata": {},
          "execution_count": 8
        }
      ]
    },
    {
      "cell_type": "code",
      "source": [
        "for i,sample in enumerate(df_train.iterrows()):\n",
        "  genres=(sample[1][2]).split()\n",
        "  if len(genres)>1:\n",
        "    year=sample[1][0]\n",
        "    synopsis=sample[1][1]\n",
        "    df_train.iloc[i,2]=genres[0]\n",
        "    for cpt in range(1,len(genres)):\n",
        "      df_train=df_train.append({'year':year,'synopsis':synopsis,'genres':genres[cpt]},ignore_index=True)"
      ],
      "metadata": {
        "id": "udt6wSy7MtYt"
      },
      "execution_count": null,
      "outputs": []
    },
    {
      "cell_type": "code",
      "source": [
        "#Gathering and standardizing each category sequences\n",
        "python=\"\"\n",
        "for text in os.listdir('./corpus/train/python'):\n",
        "  text_content= open('./corpus/train/python/'+text)\n",
        "  python+=\" \"+ text_content.read().lower()\n",
        "\n",
        "javascript=\"\"\n",
        "for text in os.listdir('./corpus/train/javascript'):\n",
        "  text_content= open('./corpus/train/javascript/'+text)\n",
        "  javascript+= \" \"+ text_content.read().lower()\n",
        "\n",
        "csharp=\"\"\n",
        "for text in os.listdir('./corpus/train/csharp'):\n",
        "  text_content= open('./corpus/train/csharp/'+text)\n",
        "  csharp+=\" \"+ text_content.read().lower()\n",
        "\n",
        "java=\"\"\n",
        "for text in os.listdir('./corpus/train/java'):\n",
        "  text_content= open('./corpus/train/java/'+text)\n",
        "  java+= \" \"+ text_content.read().lower()\n"
      ],
      "metadata": {
        "id": "aW7MTaYdkQdO"
      },
      "execution_count": null,
      "outputs": []
    },
    {
      "cell_type": "code",
      "source": [
        "#tokenizing the sequences\n",
        "python= text_to_word_sequence(python)\n",
        "java= text_to_word_sequence(java)\n",
        "javascript= text_to_word_sequence(javascript)\n",
        "csharp= text_to_word_sequence(csharp)"
      ],
      "metadata": {
        "id": "iMj2biQAFJx-"
      },
      "execution_count": null,
      "outputs": []
    },
    {
      "cell_type": "markdown",
      "source": [
        "### Counts and frequencies"
      ],
      "metadata": {
        "id": "UwQncEuRk7EP"
      }
    },
    {
      "cell_type": "markdown",
      "source": [
        "The model is based on word counts and follows maximum likelihood computation and naive bayes assumption. The predicted class $\\hat C$ is deducted by the equation bellow:\n",
        "\n",
        "  >>  $\\hat C= argmax_{c \\in C} [ log(P(c)]+ \\sum_{w\\in V} P(w/c)$\n",
        "\n",
        "\n"
      ],
      "metadata": {
        "id": "KiuyxR8B2N6L"
      }
    },
    {
      "cell_type": "code",
      "source": [
        "#Count Nc the number of documents of category c\n",
        "Nc={}\n",
        "for category in os.listdir('./corpus/train'):\n",
        "  Nc[category]=(len(os.listdir('./corpus/train/'+category)))\n",
        "print(Nc)"
      ],
      "metadata": {
        "colab": {
          "base_uri": "https://localhost:8080/"
        },
        "id": "zKfTk-gg5-Tu",
        "outputId": "bf339a95-8126-44d9-d7c8-5717aeb0cd95"
      },
      "execution_count": null,
      "outputs": [
        {
          "output_type": "stream",
          "name": "stdout",
          "text": [
            "{'python': 2000, 'javascript': 2000, 'csharp': 2000, 'java': 2000}\n"
          ]
        }
      ]
    },
    {
      "cell_type": "code",
      "source": [
        "#build frequency dict for each category where Nwc is the number of occurence of word w in sequence of category c\n",
        "python_freq={}\n",
        "for word in python:\n",
        "  if word in python_freq.keys():\n",
        "    python_freq[word]+=1\n",
        "  else:\n",
        "    python_freq[word]=1\n",
        "python_freq={k: v for k, v in sorted(python_freq.items(), key=lambda item: item[1],reverse=True)}\n",
        "java_freq={}\n",
        "for word in java:\n",
        "  if word in java_freq.keys():\n",
        "    java_freq[word]+=1\n",
        "  else:\n",
        "    java_freq[word]=1\n",
        "java_freq={k: v for k, v in sorted(java_freq.items(), key=lambda item: item[1],reverse=True)}\n",
        "\n",
        "csharp_freq={}\n",
        "for word in csharp:\n",
        "  if word in csharp_freq.keys():\n",
        "    csharp_freq[word]+=1\n",
        "  else:\n",
        "    csharp_freq[word]=1\n",
        "csharp_freq={k: v for k, v in sorted(csharp_freq.items(), key=lambda item: item[1],reverse=True)}\n",
        "\n",
        "javascript_freq={}\n",
        "for word in javascript:\n",
        "  if word in javascript_freq.keys():\n",
        "    javascript_freq[word]+=1\n",
        "  else:\n",
        "    javascript_freq[word]=1\n",
        "javascript_freq={k: v for k, v in sorted(javascript_freq.items(), key=lambda item: item[1],reverse=True)}\n"
      ],
      "metadata": {
        "id": "Pw75LMC8_7rQ"
      },
      "execution_count": null,
      "outputs": []
    },
    {
      "cell_type": "code",
      "source": [
        "#build vocabulary for all categories\n",
        "vocab=[]\n",
        "for word in zip(python_freq,java_freq,javascript_freq,csharp_freq):\n",
        "  vocab.append(word)"
      ],
      "metadata": {
        "id": "w_QhZY3IjW4v"
      },
      "execution_count": null,
      "outputs": []
    },
    {
      "cell_type": "markdown",
      "source": [
        "### Learning MNB model"
      ],
      "metadata": {
        "id": "-aunBrGOluZf"
      }
    },
    {
      "cell_type": "code",
      "source": [
        "#Probability of word w given category c P(w/c)\n",
        "def p_w_c(word,category):\n",
        "  if category=='python':\n",
        "    if word in python_freq.keys():\n",
        "      return (python_freq[word]+1)/(sum(python_freq.values())+len(vocab))\n",
        "    else:\n",
        "      return (1)/(sum(python_freq.values())+len(vocab))\n",
        " \n",
        "  elif category=='java':\n",
        "    if word in java_freq.keys():\n",
        "      return (java_freq[word]+1)/(sum(java_freq.values())+len(vocab))\n",
        "    else:\n",
        "      return (1)/(sum(java_freq.values())+len(vocab))\n",
        "\n",
        "  elif category=='javascript':\n",
        "    if word in javascript_freq.keys():\n",
        "      return (javascript_freq[word]+1)/(sum(javascript_freq.values())+len(vocab))\n",
        "    else:\n",
        "      return (1)/(sum(javascript_freq.values())+len(vocab))\n",
        "  \n",
        "  elif category=='csharp':\n",
        "    if word in csharp_freq.keys():\n",
        "      return (csharp_freq[word]+1)/(sum(csharp_freq.values())+len(vocab))\n",
        "    else:\n",
        "      return (1)/(sum(csharp_freq.values())+len(vocab))\n",
        "\n",
        "#Probability of categorry c P(c)\n",
        "def p_c(category):\n",
        "  return Nc[category]/sum(Nc.values())\n",
        "\n",
        "#Probability of document doc given c P(w1,w2,....,wn/c)\n",
        "def p_d_c(doc,category):\n",
        "  words=text_to_word_sequence(doc)\n",
        "  proba_word=[]\n",
        "  for word in words:\n",
        "    proba_word.append(p_w_c(word,category))\n",
        "  p_d_c= math.log(p_c(category))\n",
        "  for proba in proba_word:\n",
        "    p_d_c+= math.log(proba)\n",
        "  return p_d_c\n",
        "\n",
        "#Naive Bayes Classifier\n",
        "def c_NB(doc):\n",
        "  categories=['python','java','javascript','csharp']\n",
        "  probas=[]\n",
        "  for c in categories:\n",
        "    prob=p_d_c(doc,c)\n",
        "    probas.append(prob)\n",
        "    #print(f\" category={c} -> {prob}\")\n",
        "\n",
        "  return categories[np.argmax(probas)]"
      ],
      "metadata": {
        "id": "15Ug4RzVAHrl"
      },
      "execution_count": null,
      "outputs": []
    },
    {
      "cell_type": "code",
      "source": [
        "p_w_c(\"function\",'python')"
      ],
      "metadata": {
        "colab": {
          "base_uri": "https://localhost:8080/"
        },
        "id": "-LiAAk2Ujpws",
        "outputId": "6240c93f-cbd3-4bbb-ff79-9a9f43a29c70"
      },
      "execution_count": null,
      "outputs": [
        {
          "output_type": "execute_result",
          "data": {
            "text/plain": [
              "0.0024614553893522666"
            ]
          },
          "metadata": {},
          "execution_count": 108
        }
      ]
    },
    {
      "cell_type": "code",
      "source": [
        "python_freq['function']"
      ],
      "metadata": {
        "colab": {
          "base_uri": "https://localhost:8080/"
        },
        "id": "4rdqEcomjtck",
        "outputId": "c3cf5df4-82f4-4bb1-cd6e-7766b039899b"
      },
      "execution_count": null,
      "outputs": [
        {
          "output_type": "execute_result",
          "data": {
            "text/plain": [
              "856"
            ]
          },
          "metadata": {},
          "execution_count": 109
        }
      ]
    },
    {
      "cell_type": "code",
      "source": [
        "doc=\"filtering a list in blank so i have two lists .one is an attorney object list and the other is a list with guid .i am first just filling the guid list with values and then looping through it and then matching it to the id field of attorney object to get the attorney's with the given id ...is there a nicer way than my try to achieve this. ..list&lt;attorney&gt; attorneys = msg.casedocument.attorneys;.list&lt;attorney&gt; casedefendantatt = new list&lt;attorney&gt;();.list&lt;guid&gt; attorneyid = new list&lt;guid&gt;();..foreach (var s in msg.casedocument.defendants).{.    attorneyid.addrange(s.attorneys);               ..}.foreach (var p in attorneyid).{.    var z = attorneys.findall(o =&gt; o.attorneyid == p);.    if (z != null).    {.        casedefendantatt.addrange(z);..    }..}\"\n",
        "c_NB(doc)"
      ],
      "metadata": {
        "colab": {
          "base_uri": "https://localhost:8080/",
          "height": 35
        },
        "id": "SwsDrZQmjwbg",
        "outputId": "b0c47458-d24b-4ba4-a699-b6d03c89e233"
      },
      "execution_count": null,
      "outputs": [
        {
          "output_type": "execute_result",
          "data": {
            "text/plain": [
              "'csharp'"
            ],
            "application/vnd.google.colaboratory.intrinsic+json": {
              "type": "string"
            }
          },
          "metadata": {},
          "execution_count": 110
        }
      ]
    },
    {
      "cell_type": "markdown",
      "source": [
        "### Test and evaluation"
      ],
      "metadata": {
        "id": "e9OidvRrmqXu"
      }
    },
    {
      "cell_type": "code",
      "source": [
        "confusion_matrix=np.zeros((4,4))\n",
        "idx={'python':0,'javascript':1,'csharp':2,'java':3}\n",
        "for category in os.listdir(\"./corpus/test\"):\n",
        "  for doc in os.listdir('./corpus/test/'+category):\n",
        "    sequence=open('./corpus/test/'+category+'/'+doc)\n",
        "    sequence= sequence.read().lower()\n",
        "    prediction= c_NB(sequence)\n",
        "    confusion_matrix[idx[prediction],idx[category]]+=1    \n"
      ],
      "metadata": {
        "id": "1Uq_amQZfzMP"
      },
      "execution_count": null,
      "outputs": []
    },
    {
      "cell_type": "code",
      "source": [
        "ax=sns.heatmap(confusion_matrix,cmap='Blues',annot=confusion_matrix)\n",
        "ax.set_title('classification confusion matrix')\n",
        "ax.xaxis.set_ticklabels(idx.keys())\n",
        "ax.yaxis.set_ticklabels(idx.keys())\n",
        "plt.show()"
      ],
      "metadata": {
        "colab": {
          "base_uri": "https://localhost:8080/",
          "height": 281
        },
        "id": "TPoggnDqw_zE",
        "outputId": "a76acd7e-1ead-4d51-c388-3191f186b879"
      },
      "execution_count": null,
      "outputs": [
        {
          "output_type": "display_data",
          "data": {
            "text/plain": [
              "<Figure size 432x288 with 2 Axes>"
            ],
            "image/png": "[encoded data removed]"
          },
          "metadata": {
            "needs_background": "light"
          }
        }
      ]
    },
    {
      "cell_type": "code",
      "source": [],
      "metadata": {
        "id": "f4eGDmCJy7-2"
      },
      "execution_count": null,
      "outputs": []
    }
  ]
}