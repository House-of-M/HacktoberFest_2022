{
  "cells": [
    {
      "cell_type": "markdown",
      "source": [
        "# Intro\n",
        "The following notebook focuses on the task of text categorization which consists in assigning one label, out a known set of labels, to an natural language text introduced. Three algorithms are used for this same task with the same data. Multinomial Naive Bayes, Logistic Regression and Neural Networks. The models here are not built from scratch but directly implemented using sklearn and tensorflow libraries."
      ],
      "metadata": {
        "id": "l9nEva4erbKx"
      }
    },
    {
      "cell_type": "code",
      "execution_count": null,
      "metadata": {
        "colab": {
          "background_save": true
        },
        "id": "8-cr4RWB7LKO"
      },
      "outputs": [],
      "source": [
        "import os\n",
        "import tarfile\n",
        "import seaborn as sns\n",
        "import matplotlib.pyplot as plt\n",
        "from sklearn.pipeline import make_pipeline\n",
        "from sklearn.naive_bayes import MultinomialNB\n",
        "from sklearn.linear_model import LogisticRegression\n",
        "from sklearn.feature_extraction.text import TfidfVectorizer\n",
        "from sklearn.feature_extraction.text import CountVectorizer"
      ]
    },
    {
      "cell_type": "markdown",
      "metadata": {
        "id": "i8LiJMARbqNm"
      },
      "source": [
        "### Loading data"
      ]
    },
    {
      "cell_type": "code",
      "execution_count": null,
      "metadata": {
        "id": "ka0dfKk1Lq4b"
      },
      "outputs": [],
      "source": [
        "# open file\n",
        "file = tarfile.open('stack_overflow_16k.tar.gz')\n",
        "  \n",
        "# extracting file\n",
        "file.extractall('./corpus')\n",
        "  \n",
        "file.close()"
      ]
    },
    {
      "cell_type": "code",
      "execution_count": null,
      "metadata": {
        "id": "6UbvZ4cyM4VI"
      },
      "outputs": [],
      "source": [
        "classes={'python':0,'java':1,'csharp':2,'javascript':3}"
      ]
    },
    {
      "cell_type": "code",
      "execution_count": null,
      "metadata": {
        "id": "-AyyuiXuMB1n"
      },
      "outputs": [],
      "source": [
        "train_data=[]\n",
        "train_target=[]\n",
        "for category in os.listdir('./corpus/train'):\n",
        "  for doc in os.listdir('./corpus/train/'+category):\n",
        "    sequence=open('./corpus/train/'+category+'/'+doc)\n",
        "    sequence=sequence.read().lower()\n",
        "    train_data.append(sequence)\n",
        "    train_target.append(classes[category])"
      ]
    },
    {
      "cell_type": "code",
      "execution_count": null,
      "metadata": {
        "id": "0tg43gUvNqmk"
      },
      "outputs": [],
      "source": [
        "test_data=[]\n",
        "test_target=[]\n",
        "for category in os.listdir('./corpus/test'):\n",
        "  for doc in os.listdir('./corpus/test/'+category):\n",
        "    sequence=open('./corpus/test/'+category+'/'+doc)\n",
        "    sequence=sequence.read().lower()\n",
        "    test_data.append(sequence)\n",
        "    test_target.append(classes[category])"
      ]
    },
    {
      "cell_type": "markdown",
      "metadata": {
        "id": "w1PiQfYCYyHF"
      },
      "source": [
        "### Multinomial Naive Bayes"
      ]
    },
    {
      "cell_type": "code",
      "execution_count": null,
      "metadata": {
        "id": "HEZpmAylOCuO"
      },
      "outputs": [],
      "source": [
        "Nb_Classifier=make_pipeline(CountVectorizer(),MultinomialNB())"
      ]
    },
    {
      "cell_type": "code",
      "execution_count": null,
      "metadata": {
        "colab": {
          "base_uri": "https://localhost:8080/"
        },
        "id": "DPG3oIsrOU7J",
        "outputId": "b09fd77a-f737-4696-95c1-b6b395f8e673"
      },
      "outputs": [
        {
          "data": {
            "text/plain": [
              "Pipeline(steps=[('countvectorizer', CountVectorizer()),\n",
              "                ('multinomialnb', MultinomialNB())])"
            ]
          },
          "execution_count": 42,
          "metadata": {},
          "output_type": "execute_result"
        }
      ],
      "source": [
        "Nb_Classifier.fit(train_data,train_target)"
      ]
    },
    {
      "cell_type": "code",
      "execution_count": null,
      "metadata": {
        "id": "CfNKMQYEOfvh"
      },
      "outputs": [],
      "source": [
        "predictions=Nb_Classifier.predict(test_data)"
      ]
    },
    {
      "cell_type": "code",
      "execution_count": null,
      "metadata": {
        "colab": {
          "base_uri": "https://localhost:8080/",
          "height": 279
        },
        "id": "ygV_t1fbPBfC",
        "outputId": "173e8358-3ea7-4ed7-c922-ea634c71b975"
      },
      "outputs": [
        {
          "data": {
            "image/png": "[encoded data removed]",
            "text/plain": [
              "<Figure size 432x288 with 2 Axes>"
            ]
          },
          "metadata": {},
          "output_type": "display_data"
        }
      ],
      "source": [
        "from sklearn.metrics import confusion_matrix\n",
        "mat = confusion_matrix(test_target, predictions)\n",
        "sns.heatmap(mat.T, square=True, annot=True, fmt='d', cmap=\"Blues\",\n",
        "            xticklabels=classes.keys(), yticklabels=classes.keys())\n",
        "plt.xlabel('true label')\n",
        "plt.ylabel('predicted label');"
      ]
    },
    {
      "cell_type": "code",
      "execution_count": null,
      "metadata": {
        "colab": {
          "base_uri": "https://localhost:8080/"
        },
        "id": "fQUXNTM2PSNc",
        "outputId": "31092ecf-55ec-4d21-86ba-3a7538ed564e"
      },
      "outputs": [
        {
          "name": "stdout",
          "output_type": "stream",
          "text": [
            " accuracy : 0.839\n"
          ]
        }
      ],
      "source": [
        "print(f\" accuracy : {Nb_Classifier.score(test_data,test_target)}\")"
      ]
    },
    {
      "cell_type": "markdown",
      "metadata": {
        "id": "4qTfeDqqYqX0"
      },
      "source": [
        "### Logistic regression"
      ]
    },
    {
      "cell_type": "code",
      "execution_count": null,
      "metadata": {
        "id": "GyQagV37Qt5h"
      },
      "outputs": [],
      "source": [
        "LR_Classifier=make_pipeline(CountVectorizer(),LogisticRegression(max_iter=1000))"
      ]
    },
    {
      "cell_type": "code",
      "execution_count": null,
      "metadata": {
        "colab": {
          "base_uri": "https://localhost:8080/"
        },
        "id": "h_8VCXNOXDFY",
        "outputId": "aca94162-3696-4b68-cf54-175015d6c7d7"
      },
      "outputs": [
        {
          "data": {
            "text/plain": [
              "Pipeline(steps=[('countvectorizer', CountVectorizer()),\n",
              "                ('logisticregression', LogisticRegression(max_iter=1000))])"
            ]
          },
          "execution_count": 61,
          "metadata": {},
          "output_type": "execute_result"
        }
      ],
      "source": [
        "LR_Classifier.fit(train_data,train_target)"
      ]
    },
    {
      "cell_type": "code",
      "execution_count": null,
      "metadata": {
        "colab": {
          "base_uri": "https://localhost:8080/",
          "height": 265
        },
        "id": "oiBCyp23Xx4M",
        "outputId": "8ddc467e-c826-4647-c980-1450cfc9e60c"
      },
      "outputs": [
        {
          "data": {
            "image/png": "[encoded data removed]",
            "text/plain": [
              "<Figure size 432x288 with 2 Axes>"
            ]
          },
          "metadata": {},
          "output_type": "display_data"
        }
      ],
      "source": [
        "preds=LR_Classifier.predict(test_data)\n",
        "mat_lr= confusion_matrix(test_target,preds)\n",
        "sns.heatmap(mat_lr,cmap=\"Blues\",annot=True,fmt=\"d\",\n",
        "            xticklabels=  classes.keys(), yticklabels=classes.keys())\n",
        "plt.show()"
      ]
    },
    {
      "cell_type": "code",
      "execution_count": null,
      "metadata": {
        "colab": {
          "base_uri": "https://localhost:8080/"
        },
        "id": "w_YD-0oIXIWG",
        "outputId": "87ff05fb-73ec-4215-b58b-4da44db83fe5"
      },
      "outputs": [
        {
          "name": "stdout",
          "output_type": "stream",
          "text": [
            " accuracy : 0.833875\n"
          ]
        }
      ],
      "source": [
        "print(f\" accuracy : {LR_Classifier.score(test_data,test_target)}\")"
      ]
    },
    {
      "cell_type": "code",
      "execution_count": null,
      "metadata": {
        "colab": {
          "base_uri": "https://localhost:8080/"
        },
        "id": "KkmL1gHnZFJ_",
        "outputId": "a0c42398-ace4-4d10-f01a-85fabff819ed"
      },
      "outputs": [
        {
          "data": {
            "text/plain": [
              "array([0])"
            ]
          },
          "execution_count": 64,
          "metadata": {},
          "output_type": "execute_result"
        }
      ],
      "source": [
        "LR_Classifier.predict([\"from tensorflow.model import sequential\"])"
      ]
    },
    {
      "cell_type": "code",
      "execution_count": null,
      "metadata": {
        "colab": {
          "base_uri": "https://localhost:8080/"
        },
        "id": "9PZwQL8ybVVQ",
        "outputId": "fd81e23e-b18a-4629-c628-dbdc988657f3"
      },
      "outputs": [
        {
          "data": {
            "text/plain": [
              "{'csharp': 2, 'java': 1, 'javascript': 3, 'python': 0}"
            ]
          },
          "execution_count": 65,
          "metadata": {},
          "output_type": "execute_result"
        }
      ],
      "source": [
        "classes"
      ]
    },
    {
      "cell_type": "markdown",
      "metadata": {
        "id": "0BVgxMl2sq1S"
      },
      "source": [
        "### 3. Neural network"
      ]
    },
    {
      "cell_type": "code",
      "execution_count": null,
      "metadata": {
        "id": "3bgcPJ7bbbab"
      },
      "outputs": [],
      "source": [
        "import tensorflow as tf\n",
        "from tensorflow.keras import layers\n",
        "from tensorflow.keras import losses"
      ]
    },
    {
      "cell_type": "code",
      "execution_count": null,
      "metadata": {
        "colab": {
          "base_uri": "https://localhost:8080/"
        },
        "id": "-rS38dp9wM2F",
        "outputId": "adb61d8a-469e-4924-9e1d-22ffaa305790"
      },
      "outputs": [
        {
          "name": "stdout",
          "output_type": "stream",
          "text": [
            "Found 8000 files belonging to 4 classes.\n",
            "Using 6400 files for training.\n",
            "Found 8000 files belonging to 4 classes.\n",
            "Using 1600 files for validation.\n",
            "Found 8000 files belonging to 4 classes.\n"
          ]
        }
      ],
      "source": [
        "train_data=tf.keras.utils.text_dataset_from_directory(directory='./corpus/train',batch_size=32,validation_split=0.2,subset='training',seed=100)\n",
        "val_data=tf.keras.utils.text_dataset_from_directory(directory='./corpus/train',batch_size=32,validation_split=0.2,subset='validation',seed=100)\n",
        "test_data=tf.keras.utils.text_dataset_from_directory(directory='./corpus/test',batch_size=32)"
      ]
    },
    {
      "cell_type": "code",
      "execution_count": null,
      "metadata": {
        "id": "qbNRiTAq0VdK"
      },
      "outputs": [],
      "source": [
        "vectorize=layers.TextVectorization(max_tokens=1000,standardize='lower',output_sequence_length=100)\n",
        "text_data=train_data.map(lambda x,y: x)\n",
        "vectorize.adapt(text_data)"
      ]
    },
    {
      "cell_type": "code",
      "execution_count": null,
      "metadata": {
        "id": "wiWebE-P2sFW"
      },
      "outputs": [],
      "source": [
        "def vectorize_text(text, label):\n",
        "  text = tf.expand_dims(text, -1)\n",
        "  return vectorize(text), label\n",
        "train_dataset=train_data.map(vectorize_text)\n",
        "val_dataset=val_data.map(vectorize_text)\n",
        "test_dataset=test_data.map(vectorize_text)"
      ]
    },
    {
      "cell_type": "code",
      "execution_count": null,
      "metadata": {
        "colab": {
          "base_uri": "https://localhost:8080/"
        },
        "id": "MMa9bNGBs5xP",
        "outputId": "7c239b26-179b-4194-accc-561324c9599d"
      },
      "outputs": [
        {
          "name": "stdout",
          "output_type": "stream",
          "text": [
            "Model: \"sequential_3\"\n",
            "_________________________________________________________________\n",
            " Layer (type)                Output Shape              Param #   \n",
            "=================================================================\n",
            " embedding_3 (Embedding)     (None, None, 16)          16016     \n",
            "                                                                 \n",
            " dropout_6 (Dropout)         (None, None, 16)          0         \n",
            "                                                                 \n",
            " global_average_pooling1d_3   (None, 16)               0         \n",
            " (GlobalAveragePooling1D)                                        \n",
            "                                                                 \n",
            " dropout_7 (Dropout)         (None, 16)                0         \n",
            "                                                                 \n",
            " dense_3 (Dense)             (None, 4)                 68        \n",
            "                                                                 \n",
            "=================================================================\n",
            "Total params: 16,084\n",
            "Trainable params: 16,084\n",
            "Non-trainable params: 0\n",
            "_________________________________________________________________\n"
          ]
        }
      ],
      "source": [
        "DL_model=tf.keras.Sequential([layers.Embedding(input_dim=1001,output_dim=16),\n",
        "                                      layers.Dropout(0.2),\n",
        "                                      layers.GlobalAvgPool1D(),\n",
        "                                      layers.Dropout(0.2),\n",
        "                                      layers.Dense(4)])\n",
        "DL_model.summary()"
      ]
    },
    {
      "cell_type": "code",
      "execution_count": null,
      "metadata": {
        "id": "hWdPrNEJt89N"
      },
      "outputs": [],
      "source": [
        "DL_model.compile(optimizer='adam',loss=losses.SparseCategoricalCrossentropy(from_logits=True),metrics=['accuracy'])"
      ]
    },
    {
      "cell_type": "code",
      "execution_count": null,
      "metadata": {
        "colab": {
          "base_uri": "https://localhost:8080/"
        },
        "id": "_u08NrH0vwup",
        "outputId": "8f3b7f4c-8f76-493c-a4b5-3ac9eadbc843"
      },
      "outputs": [
        {
          "name": "stdout",
          "output_type": "stream",
          "text": [
            "Epoch 1/20\n",
            "200/200 [==============================] - 3s 14ms/step - loss: 0.8346 - accuracy: 0.7034 - val_loss: 0.8338 - val_accuracy: 0.7013\n",
            "Epoch 2/20\n",
            "200/200 [==============================] - 3s 14ms/step - loss: 0.8090 - accuracy: 0.7114 - val_loss: 0.8117 - val_accuracy: 0.7056\n",
            "Epoch 3/20\n",
            "200/200 [==============================] - 3s 13ms/step - loss: 0.7831 - accuracy: 0.7192 - val_loss: 0.7923 - val_accuracy: 0.7100\n",
            "Epoch 4/20\n",
            "200/200 [==============================] - 3s 13ms/step - loss: 0.7635 - accuracy: 0.7250 - val_loss: 0.7764 - val_accuracy: 0.7188\n",
            "Epoch 5/20\n",
            "200/200 [==============================] - 3s 14ms/step - loss: 0.7445 - accuracy: 0.7280 - val_loss: 0.7623 - val_accuracy: 0.7181\n",
            "Epoch 6/20\n",
            "200/200 [==============================] - 3s 14ms/step - loss: 0.7242 - accuracy: 0.7353 - val_loss: 0.7502 - val_accuracy: 0.7281\n",
            "Epoch 7/20\n",
            "200/200 [==============================] - 3s 14ms/step - loss: 0.7093 - accuracy: 0.7430 - val_loss: 0.7395 - val_accuracy: 0.7281\n",
            "Epoch 8/20\n",
            "200/200 [==============================] - 3s 14ms/step - loss: 0.6914 - accuracy: 0.7456 - val_loss: 0.7283 - val_accuracy: 0.7287\n",
            "Epoch 9/20\n",
            "200/200 [==============================] - 3s 13ms/step - loss: 0.6790 - accuracy: 0.7548 - val_loss: 0.7203 - val_accuracy: 0.7325\n",
            "Epoch 10/20\n",
            "200/200 [==============================] - 3s 13ms/step - loss: 0.6651 - accuracy: 0.7531 - val_loss: 0.7113 - val_accuracy: 0.7312\n",
            "Epoch 11/20\n",
            "200/200 [==============================] - 3s 14ms/step - loss: 0.6554 - accuracy: 0.7606 - val_loss: 0.7064 - val_accuracy: 0.7319\n",
            "Epoch 12/20\n",
            "200/200 [==============================] - 3s 13ms/step - loss: 0.6467 - accuracy: 0.7652 - val_loss: 0.7007 - val_accuracy: 0.7337\n",
            "Epoch 13/20\n",
            "200/200 [==============================] - 3s 13ms/step - loss: 0.6374 - accuracy: 0.7652 - val_loss: 0.6939 - val_accuracy: 0.7325\n",
            "Epoch 14/20\n",
            "200/200 [==============================] - 3s 14ms/step - loss: 0.6290 - accuracy: 0.7684 - val_loss: 0.6894 - val_accuracy: 0.7394\n",
            "Epoch 15/20\n",
            "200/200 [==============================] - 3s 13ms/step - loss: 0.6210 - accuracy: 0.7703 - val_loss: 0.6864 - val_accuracy: 0.7337\n",
            "Epoch 16/20\n",
            "200/200 [==============================] - 3s 12ms/step - loss: 0.6050 - accuracy: 0.7770 - val_loss: 0.6818 - val_accuracy: 0.7400\n",
            "Epoch 17/20\n",
            "200/200 [==============================] - 3s 13ms/step - loss: 0.5993 - accuracy: 0.7805 - val_loss: 0.6790 - val_accuracy: 0.7350\n",
            "Epoch 18/20\n",
            "200/200 [==============================] - 3s 14ms/step - loss: 0.5917 - accuracy: 0.7812 - val_loss: 0.6765 - val_accuracy: 0.7394\n",
            "Epoch 19/20\n",
            "200/200 [==============================] - 3s 13ms/step - loss: 0.5846 - accuracy: 0.7802 - val_loss: 0.6730 - val_accuracy: 0.7350\n",
            "Epoch 20/20\n",
            "200/200 [==============================] - 3s 15ms/step - loss: 0.5775 - accuracy: 0.7870 - val_loss: 0.6695 - val_accuracy: 0.7375\n"
          ]
        }
      ],
      "source": [
        "hist=DL_model.fit(train_dataset,validation_data=val_dataset,epochs=20)"
      ]
    },
    {
      "cell_type": "code",
      "execution_count": null,
      "metadata": {
        "colab": {
          "base_uri": "https://localhost:8080/"
        },
        "id": "udwlwsBP2TCE",
        "outputId": "92741770-c7a0-498f-f652-9d8a4d9d2cea"
      },
      "outputs": [
        {
          "name": "stdout",
          "output_type": "stream",
          "text": [
            "250/250 [==============================] - 2s 9ms/step - loss: 0.6848 - accuracy: 0.7279\n"
          ]
        },
        {
          "data": {
            "text/plain": [
              "[0.6847966909408569, 0.7278749942779541]"
            ]
          },
          "execution_count": 38,
          "metadata": {},
          "output_type": "execute_result"
        }
      ],
      "source": [
        "DL_model.evaluate(test_dataset)"
      ]
    },
    {
      "cell_type": "code",
      "execution_count": null,
      "metadata": {
        "colab": {
          "base_uri": "https://localhost:8080/",
          "height": 300
        },
        "id": "JYz8H7-73knn",
        "outputId": "9d62c9c2-3c0a-4934-c0a4-a41b88818101"
      },
      "outputs": [
        {
          "data": {
            "text/plain": [
              "<matplotlib.legend.Legend at 0x7f8178759490>"
            ]
          },
          "execution_count": 39,
          "metadata": {},
          "output_type": "execute_result"
        },
        {
          "data": {
            "image/png": "[encoded data removed]",
            "text/plain": [
              "<Figure size 432x288 with 1 Axes>"
            ]
          },
          "metadata": {},
          "output_type": "display_data"
        }
      ],
      "source": [
        "plt.plot(hist.history['accuracy'], label='accuracy')\n",
        "plt.plot(hist.history['val_accuracy'], label = 'val_accuracy')\n",
        "plt.xlabel('Epoch')\n",
        "plt.ylabel('Accuracy')\n",
        "plt.ylim([0.5, 1])\n",
        "plt.legend(loc='lower right')\n",
        "\n"
      ]
    }
  ],
  "metadata": {
    "colab": {
      "collapsed_sections": [],
      "provenance": []
    },
    "kernelspec": {
      "display_name": "Python 3",
      "name": "python3"
    },
    "language_info": {
      "name": "python"
    }
  },
  "nbformat": 4,
  "nbformat_minor": 0
}